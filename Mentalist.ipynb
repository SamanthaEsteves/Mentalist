{
 "cells": [
  {
   "cell_type": "code",
   "execution_count": null,
   "metadata": {},
   "outputs": [],
   "source": [
    "# Importando bibliotecas\n",
    "\n",
    "import os\n",
    "import time\n",
    "import random"
   ]
  },
  {
   "cell_type": "code",
   "execution_count": null,
   "metadata": {},
   "outputs": [],
   "source": [
    "# Introdução do jogo\n",
    "\n",
    "def introduction():\n",
    "    print(\"Bem vindo ao jogo: Mentalista!\\n\")\n",
    "    print(\"Consegue adivinhar o número que estou pensando?\\n\")\n",
    "    print(\"Você tem 10 tentativas\\n\")"
   ]
  },
  {
   "cell_type": "code",
   "execution_count": null,
   "metadata": {},
   "outputs": [],
   "source": [
    "# Gerador de número aleatório\n",
    "\n",
    "def number_generator():\n",
    "    random_number = random.randrange(0, 100)\n",
    "    return random_number"
   ]
  },
  {
   "cell_type": "code",
   "execution_count": null,
   "metadata": {},
   "outputs": [],
   "source": [
    "# Pergunta \n",
    "\n",
    "def keep_playing():\n",
    "    question = input(\"Quer jogar novamente? Responda 's' ou 'n'.\\n\")\n",
    "\n",
    "    if question.lower() == \"s\" or \"sim\":\n",
    "        time.sleep(2)\n",
    "        print(\"Ook! Reiniciando o jogo.\\n\")\n",
    "        number = number_generator()\n",
    "        score = 0\n",
    "        introduction()\n",
    "\n",
    "    elif question.lower() == \"n\" or \"não\" or \"nao\":\n",
    "        time.sleep(2)\n",
    "        print(\"Ook! Obrigada por jogar, encerrando o terminal!\\n\")\n"
   ]
  },
  {
   "cell_type": "code",
   "execution_count": null,
   "metadata": {},
   "outputs": [],
   "source": [
    "#  Jogo em si\n",
    "\n",
    "def mentalist(number, score):\n",
    "    while True:\n",
    "        try:\n",
    "            guess = int(input(\"Chute um número entre 1 e 100!\\n\"))\n",
    "\n",
    "            if 0 > guess < 100:\n",
    "                time.sleep(2)\n",
    "                print(\"Digite um número ENTRE 1 e 100!\\n\")\n",
    "\n",
    "            if score == total:\n",
    "                print(\"Você perdeu porque atingiu o número máximo de tentativas.\\n\")\n",
    "                keep_playing()\n",
    "        \n",
    "            else:\n",
    "                if guess < number:\n",
    "                    time.sleep(2)\n",
    "                    print(f\"O número é maior que {guess}, tente novamente.\\n\")\n",
    "                    print(f\"Você tem mais {total - score} tentativas.\\n\")\n",
    "                    score += 1\n",
    "\n",
    "                elif guess > number:\n",
    "                    time.sleep(2)\n",
    "                    print(f\"O número é menor que {guess}, tente novamente.\\n\")\n",
    "                    print(f\"Você tem mais {total - score} tentativas.\\n\")\n",
    "                    score += 1\n",
    "\n",
    "                elif guess == number:\n",
    "                    time.sleep(2)\n",
    "                    print(f\"Parabéns! Eu estava pensando no número {guess}! Você acertou em {score} tentativas.\\n\")\n",
    "\n",
    "                    keep_playing()\n",
    "\n",
    "        except ValueError:\n",
    "            print(\"Digite um numero dentro das especificações!\\n\")"
   ]
  },
  {
   "cell_type": "code",
   "execution_count": null,
   "metadata": {},
   "outputs": [],
   "source": [
    "# Declarando variáveis e iniciando o jogo\n",
    "\n",
    "introduction()\n",
    "number  = number_generator()\n",
    "score = 0\n",
    "total = 10\n",
    "mentalist(number, score)"
   ]
  }
 ],
 "metadata": {
  "kernelspec": {
   "display_name": "Python 3.10.7 64-bit",
   "language": "python",
   "name": "python3"
  },
  "language_info": {
   "codemirror_mode": {
    "name": "ipython",
    "version": 3
   },
   "file_extension": ".py",
   "mimetype": "text/x-python",
   "name": "python",
   "nbconvert_exporter": "python",
   "pygments_lexer": "ipython3",
   "version": "3.10.7"
  },
  "orig_nbformat": 4,
  "vscode": {
   "interpreter": {
    "hash": "efb7a97d474e1365eb3cc1499572f8bbefdf3cf8bd59fd2202ae78240eb011e1"
   }
  }
 },
 "nbformat": 4,
 "nbformat_minor": 2
}
